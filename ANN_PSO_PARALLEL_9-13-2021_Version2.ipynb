{
 "cells": [
  {
   "cell_type": "code",
   "execution_count": 1,
   "metadata": {},
   "outputs": [],
   "source": [
    "import numpy as np\n",
    "import csv\n",
    "import time\n",
    "import math\n",
    "import pandas as pd\n",
    "from numba import cuda, float32, float64\n",
    "from sklearn.impute import SimpleImputer\n",
    "from sklearn.preprocessing import StandardScaler, MinMaxScaler\n",
    "import random\n",
    "from numba import cuda\n",
    "random.seed(1)\n",
    "import matplotlib.pyplot as plt\n",
    "import seaborn as sns"
   ]
  },
  {
   "cell_type": "code",
   "execution_count": 2,
   "metadata": {},
   "outputs": [],
   "source": [
    "# read csv (comma separated value) into data\n",
    "data = pd.read_csv('housing.csv')"
   ]
  },
  {
   "cell_type": "code",
   "execution_count": 3,
   "metadata": {},
   "outputs": [
    {
     "data": {
      "text/html": [
       "<div>\n",
       "<style scoped>\n",
       "    .dataframe tbody tr th:only-of-type {\n",
       "        vertical-align: middle;\n",
       "    }\n",
       "\n",
       "    .dataframe tbody tr th {\n",
       "        vertical-align: top;\n",
       "    }\n",
       "\n",
       "    .dataframe thead th {\n",
       "        text-align: right;\n",
       "    }\n",
       "</style>\n",
       "<table border=\"1\" class=\"dataframe\">\n",
       "  <thead>\n",
       "    <tr style=\"text-align: right;\">\n",
       "      <th></th>\n",
       "      <th>longitude</th>\n",
       "      <th>latitude</th>\n",
       "      <th>housing_median_age</th>\n",
       "      <th>total_rooms</th>\n",
       "      <th>total_bedrooms</th>\n",
       "      <th>population</th>\n",
       "      <th>households</th>\n",
       "      <th>median_income</th>\n",
       "      <th>median_house_value</th>\n",
       "      <th>ocean_proximity</th>\n",
       "    </tr>\n",
       "  </thead>\n",
       "  <tbody>\n",
       "    <tr>\n",
       "      <th>0</th>\n",
       "      <td>-122.23</td>\n",
       "      <td>37.88</td>\n",
       "      <td>41.0</td>\n",
       "      <td>880.0</td>\n",
       "      <td>129.0</td>\n",
       "      <td>322.0</td>\n",
       "      <td>126.0</td>\n",
       "      <td>8.3252</td>\n",
       "      <td>452600.0</td>\n",
       "      <td>NEAR BAY</td>\n",
       "    </tr>\n",
       "    <tr>\n",
       "      <th>1</th>\n",
       "      <td>-122.22</td>\n",
       "      <td>37.86</td>\n",
       "      <td>21.0</td>\n",
       "      <td>7099.0</td>\n",
       "      <td>1106.0</td>\n",
       "      <td>2401.0</td>\n",
       "      <td>1138.0</td>\n",
       "      <td>8.3014</td>\n",
       "      <td>358500.0</td>\n",
       "      <td>NEAR BAY</td>\n",
       "    </tr>\n",
       "    <tr>\n",
       "      <th>2</th>\n",
       "      <td>-122.24</td>\n",
       "      <td>37.85</td>\n",
       "      <td>52.0</td>\n",
       "      <td>1467.0</td>\n",
       "      <td>190.0</td>\n",
       "      <td>496.0</td>\n",
       "      <td>177.0</td>\n",
       "      <td>7.2574</td>\n",
       "      <td>352100.0</td>\n",
       "      <td>NEAR BAY</td>\n",
       "    </tr>\n",
       "    <tr>\n",
       "      <th>3</th>\n",
       "      <td>-122.25</td>\n",
       "      <td>37.85</td>\n",
       "      <td>52.0</td>\n",
       "      <td>1274.0</td>\n",
       "      <td>235.0</td>\n",
       "      <td>558.0</td>\n",
       "      <td>219.0</td>\n",
       "      <td>5.6431</td>\n",
       "      <td>341300.0</td>\n",
       "      <td>NEAR BAY</td>\n",
       "    </tr>\n",
       "    <tr>\n",
       "      <th>4</th>\n",
       "      <td>-122.25</td>\n",
       "      <td>37.85</td>\n",
       "      <td>52.0</td>\n",
       "      <td>1627.0</td>\n",
       "      <td>280.0</td>\n",
       "      <td>565.0</td>\n",
       "      <td>259.0</td>\n",
       "      <td>3.8462</td>\n",
       "      <td>342200.0</td>\n",
       "      <td>NEAR BAY</td>\n",
       "    </tr>\n",
       "  </tbody>\n",
       "</table>\n",
       "</div>"
      ],
      "text/plain": [
       "   longitude  latitude  housing_median_age  total_rooms  total_bedrooms  \\\n",
       "0    -122.23     37.88                41.0        880.0           129.0   \n",
       "1    -122.22     37.86                21.0       7099.0          1106.0   \n",
       "2    -122.24     37.85                52.0       1467.0           190.0   \n",
       "3    -122.25     37.85                52.0       1274.0           235.0   \n",
       "4    -122.25     37.85                52.0       1627.0           280.0   \n",
       "\n",
       "   population  households  median_income  median_house_value ocean_proximity  \n",
       "0       322.0       126.0         8.3252            452600.0        NEAR BAY  \n",
       "1      2401.0      1138.0         8.3014            358500.0        NEAR BAY  \n",
       "2       496.0       177.0         7.2574            352100.0        NEAR BAY  \n",
       "3       558.0       219.0         5.6431            341300.0        NEAR BAY  \n",
       "4       565.0       259.0         3.8462            342200.0        NEAR BAY  "
      ]
     },
     "execution_count": 3,
     "metadata": {},
     "output_type": "execute_result"
    }
   ],
   "source": [
    "data.head()"
   ]
  },
  {
   "cell_type": "code",
   "execution_count": 4,
   "metadata": {},
   "outputs": [],
   "source": [
    "# checking the null values\n",
    "data.isnull().sum()\n",
    "data['total_bedrooms']=data['total_bedrooms'].fillna(0)"
   ]
  },
  {
   "cell_type": "code",
   "execution_count": 5,
   "metadata": {},
   "outputs": [],
   "source": [
    "data.to_csv('housing_out.csv') "
   ]
  },
  {
   "cell_type": "code",
   "execution_count": 6,
   "metadata": {},
   "outputs": [
    {
     "data": {
      "text/plain": [
       "<1H OCEAN     9136\n",
       "INLAND        6551\n",
       "NEAR OCEAN    2658\n",
       "NEAR BAY      2290\n",
       "ISLAND           5\n",
       "Name: ocean_proximity, dtype: int64"
      ]
     },
     "execution_count": 6,
     "metadata": {},
     "output_type": "execute_result"
    },
    {
     "data": {
      "image/png": "[encoded data removed]",
      "text/plain": [
       "<Figure size 432x288 with 1 Axes>"
      ]
     },
     "metadata": {
      "needs_background": "light"
     },
     "output_type": "display_data"
    }
   ],
   "source": [
    "sns.countplot(x=\"ocean_proximity\", data=data)\n",
    "data.loc[:,'ocean_proximity'].value_counts()"
   ]
  },
  {
   "cell_type": "code",
   "execution_count": 7,
   "metadata": {},
   "outputs": [],
   "source": [
    "def readData(file):\n",
    "    file=open(file, 'r')\n",
    "    reader=csv.reader(file)\n",
    "    data= []\n",
    "    for line in reader:\n",
    "        data.append(line)\n",
    "    data=np.array(data)\n",
    "    return data"
   ]
  },
  {
   "cell_type": "code",
   "execution_count": 8,
   "metadata": {},
   "outputs": [],
   "source": [
    "#Computes wT*x[i] ( the predicted value for datum)\n",
    "def H(x,w,i):\n",
    "    sum=0\n",
    "    for j in range(len(x[0])):\n",
    "        sum+=x[i][j]*w[j]\n",
    "    return sum "
   ]
  },
  {
   "cell_type": "code",
   "execution_count": 9,
   "metadata": {},
   "outputs": [],
   "source": [
    "def forward_prop(x, weights):\n",
    "    weights2=weights[n_inputs*n_hidden:]\n",
    "    z3=0\n",
    "    #Pass data from the initial layer to the hidden neurons\n",
    "    for j in range(0,n_hidden-1):\n",
    "        weights1=weights[n_inputs*j:n_inputs*(j+1)]\n",
    "        result=0\n",
    "        for k in range(0,n_inputs):\n",
    "            result+=(x[k]*weights1[k])\n",
    "            #result+=0.1\n",
    "        #Activation function ReLu\n",
    "        #result=max(0, result)\n",
    "        #We can add what each hidden neuron contributes to the output layer\n",
    "        z3+=result*weights2[j]\n",
    "    #We add the bias\n",
    "    z3+=weights2[n_hidden-1]\n",
    "    return z3"
   ]
  },
  {
   "cell_type": "code",
   "execution_count": 10,
   "metadata": {},
   "outputs": [],
   "source": [
    "#Function for calculating the error\n",
    "def forward_propagation_Error(x,y,w):\n",
    "    E=0\n",
    "    for i in range(0, len(x)):\n",
    "        wx=0\n",
    "        wx=forward_prop(x[i], w)\n",
    "        E+=((wx-y[i][0])**2)\n",
    "    E=E/len(x)\n",
    "    return E"
   ]
  },
  {
   "cell_type": "code",
   "execution_count": 11,
   "metadata": {},
   "outputs": [],
   "source": [
    "class Particle:\n",
    "    def __init__(self, position, initial_fitness):\n",
    "         # particles position\n",
    "        self.particle_position = position\n",
    "        #initial value of the particle (infinity or minus infinity,\n",
    "        #depending on whether we want to maximize or minimize)\n",
    "        self.fitness_particle_position = initial_fitness\n",
    "        # best position of the particle\n",
    "        self.local_best_particle_position = []  \n",
    "        #best initial value of the particle (infinity or minus infinity, \n",
    "        #depending on whether we want to maximize or minimize)\n",
    "        self.fitness_local_best_particle_position = initial_fitness  \n",
    "        # particle's velocity\n",
    "        self.particle_velocity = []  \n",
    "        for i in range(0,num_dimensions):\n",
    "            #we generate the initial velocity randomly\n",
    "            self.particle_velocity.append(random.uniform(-vMax, vMax))  \n",
    " \n",
    "    def evaluate(self, x, y, mm):\n",
    "        self.fitness_particle_position = forward_propagation_Error(x, y, self.particle_position)\n",
    "        if mm == -1:\n",
    "            if self.fitness_particle_position < self.fitness_local_best_particle_position:\n",
    "                # We update the best local position\n",
    "                self.local_best_particle_position = self.particle_position  \n",
    "                # We update the best local value \n",
    "                self.fitness_local_best_particle_position = self.fitness_particle_position          \n",
    "        if mm == 1:\n",
    "            if self.fitness_particle_position > self.fitness_local_best_particle_position:\n",
    "                 # We update the best local position\n",
    "                self.local_best_particle_position = self.particle_position  \n",
    "                # We update the best local value \n",
    "                self.fitness_local_best_particle_position = self.fitness_particle_position   \n",
    "    def update_velocity(self, global_best_particle_position, w, Vmax, c1=2.8, c2=1.3):\n",
    "        for i in range(0,num_dimensions):\n",
    "            r1 = random.random()\n",
    "            r2 = random.random()\n",
    "            #We calculate the new velocity\n",
    "            self.particle_velocity[i] = w * self.particle_velocity[i] + c1 * r1 * (self.local_best_particle_position[i] - self.particle_position[i]) + c2 * r2 * (global_best_particle_position[i] - self.particle_position[i])\n",
    "            \n",
    "            #We limit the maxmum velocity\n",
    "            if(self.particle_velocity[i]>Vmax):\n",
    "                self.particle_velocity[i]=Vmax\n",
    "            if(self.particle_velocity[i]<-Vmax):\n",
    "                self.particle_velocity[i]=-Vmax\n",
    " \n",
    "    def update_position(self, bounds):\n",
    "        for i in range(0,num_dimensions):\n",
    "            self.particle_position[i] = self.particle_position[i] + self.particle_velocity[i]\n",
    " \n",
    "            #if it reaches the edges, it stays within, it does not exceed the limits\n",
    "            if self.particle_position[i] > bounds[1]:\n",
    "                self.particle_position[i] = bounds[1]\n",
    "            if self.particle_position[i] < bounds[0]:\n",
    "                self.particle_position[i] = bounds[0]"
   ]
  },
  {
   "cell_type": "code",
   "execution_count": 12,
   "metadata": {},
   "outputs": [
    {
     "name": "stdout",
     "output_type": "stream",
     "text": [
      "Data prior removing [['' 'longitude' 'latitude' ... 'median_income' 'median_house_value'\n",
      "  'ocean_proximity']\n",
      " ['0' '-122.23' '37.88' ... '8.3252' '452600.0' 'NEAR BAY']\n",
      " ['1' '-122.22' '37.86' ... '8.3014' '358500.0' 'NEAR BAY']\n",
      " ...\n",
      " ['20637' '-121.22' '39.43' ... '1.7' '92300.0' 'INLAND']\n",
      " ['20638' '-121.32' '39.43' ... '1.8672' '84700.0' 'INLAND']\n",
      " ['20639' '-121.24' '39.37' ... '2.3886' '89400.0' 'INLAND']]\n"
     ]
    }
   ],
   "source": [
    "#PS0 parameters\n",
    "num_iters=1000\n",
    "num_particles=500\n",
    "c1=2.8\n",
    "c2=1.3\n",
    "factor=10\n",
    "Fi=c1+c2\n",
    "Xi=2/(abs(2-Fi-math.sqrt(abs(Fi**2-4*Fi))))\n",
    "data=readData('housing_out.csv')\n",
    "print('Data prior removing',data)"
   ]
  },
  {
   "cell_type": "code",
   "execution_count": 13,
   "metadata": {},
   "outputs": [
    {
     "name": "stdout",
     "output_type": "stream",
     "text": [
      "Data after removing \n",
      " [['37.88' '41.0' '880.0' '129.0' '322.0' '126.0' '8.3252' '452600.0']\n",
      " ['37.86' '21.0' '7099.0' '1106.0' '2401.0' '1138.0' '8.3014' '358500.0']\n",
      " ['37.85' '52.0' '1467.0' '190.0' '496.0' '177.0' '7.2574' '352100.0']\n",
      " ['37.85' '52.0' '1274.0' '235.0' '558.0' '219.0' '5.6431' '341300.0']\n",
      " ['37.85' '52.0' '1627.0' '280.0' '565.0' '259.0' '3.8462' '342200.0']\n",
      " ['37.85' '52.0' '919.0' '213.0' '413.0' '193.0' '4.0368' '269700.0']\n",
      " ['37.84' '52.0' '2535.0' '489.0' '1094.0' '514.0' '3.6591' '299200.0']\n",
      " ['37.84' '52.0' '3104.0' '687.0' '1157.0' '647.0' '3.12' '241400.0']\n",
      " ['37.84' '42.0' '2555.0' '665.0' '1206.0' '595.0' '2.0804' '226700.0']]\n"
     ]
    }
   ],
   "source": [
    "#We remove the first row of names and the last column\n",
    "data=data[1:10,2:10]\n",
    "print('Data after removing \\n',data)"
   ]
  },
  {
   "cell_type": "code",
   "execution_count": 14,
   "metadata": {},
   "outputs": [
    {
     "data": {
      "text/html": [
       "<div>\n",
       "<style scoped>\n",
       "    .dataframe tbody tr th:only-of-type {\n",
       "        vertical-align: middle;\n",
       "    }\n",
       "\n",
       "    .dataframe tbody tr th {\n",
       "        vertical-align: top;\n",
       "    }\n",
       "\n",
       "    .dataframe thead th {\n",
       "        text-align: right;\n",
       "    }\n",
       "</style>\n",
       "<table border=\"1\" class=\"dataframe\">\n",
       "  <thead>\n",
       "    <tr style=\"text-align: right;\">\n",
       "      <th></th>\n",
       "      <th>0</th>\n",
       "      <th>1</th>\n",
       "      <th>2</th>\n",
       "      <th>3</th>\n",
       "      <th>4</th>\n",
       "      <th>5</th>\n",
       "      <th>6</th>\n",
       "      <th>7</th>\n",
       "    </tr>\n",
       "  </thead>\n",
       "  <tbody>\n",
       "    <tr>\n",
       "      <th>0</th>\n",
       "      <td>37.88</td>\n",
       "      <td>41.0</td>\n",
       "      <td>880.0</td>\n",
       "      <td>129.0</td>\n",
       "      <td>322.0</td>\n",
       "      <td>126.0</td>\n",
       "      <td>8.3252</td>\n",
       "      <td>452600.0</td>\n",
       "    </tr>\n",
       "    <tr>\n",
       "      <th>1</th>\n",
       "      <td>37.86</td>\n",
       "      <td>21.0</td>\n",
       "      <td>7099.0</td>\n",
       "      <td>1106.0</td>\n",
       "      <td>2401.0</td>\n",
       "      <td>1138.0</td>\n",
       "      <td>8.3014</td>\n",
       "      <td>358500.0</td>\n",
       "    </tr>\n",
       "    <tr>\n",
       "      <th>2</th>\n",
       "      <td>37.85</td>\n",
       "      <td>52.0</td>\n",
       "      <td>1467.0</td>\n",
       "      <td>190.0</td>\n",
       "      <td>496.0</td>\n",
       "      <td>177.0</td>\n",
       "      <td>7.2574</td>\n",
       "      <td>352100.0</td>\n",
       "    </tr>\n",
       "    <tr>\n",
       "      <th>3</th>\n",
       "      <td>37.85</td>\n",
       "      <td>52.0</td>\n",
       "      <td>1274.0</td>\n",
       "      <td>235.0</td>\n",
       "      <td>558.0</td>\n",
       "      <td>219.0</td>\n",
       "      <td>5.6431</td>\n",
       "      <td>341300.0</td>\n",
       "    </tr>\n",
       "    <tr>\n",
       "      <th>4</th>\n",
       "      <td>37.85</td>\n",
       "      <td>52.0</td>\n",
       "      <td>1627.0</td>\n",
       "      <td>280.0</td>\n",
       "      <td>565.0</td>\n",
       "      <td>259.0</td>\n",
       "      <td>3.8462</td>\n",
       "      <td>342200.0</td>\n",
       "    </tr>\n",
       "    <tr>\n",
       "      <th>5</th>\n",
       "      <td>37.85</td>\n",
       "      <td>52.0</td>\n",
       "      <td>919.0</td>\n",
       "      <td>213.0</td>\n",
       "      <td>413.0</td>\n",
       "      <td>193.0</td>\n",
       "      <td>4.0368</td>\n",
       "      <td>269700.0</td>\n",
       "    </tr>\n",
       "    <tr>\n",
       "      <th>6</th>\n",
       "      <td>37.84</td>\n",
       "      <td>52.0</td>\n",
       "      <td>2535.0</td>\n",
       "      <td>489.0</td>\n",
       "      <td>1094.0</td>\n",
       "      <td>514.0</td>\n",
       "      <td>3.6591</td>\n",
       "      <td>299200.0</td>\n",
       "    </tr>\n",
       "    <tr>\n",
       "      <th>7</th>\n",
       "      <td>37.84</td>\n",
       "      <td>52.0</td>\n",
       "      <td>3104.0</td>\n",
       "      <td>687.0</td>\n",
       "      <td>1157.0</td>\n",
       "      <td>647.0</td>\n",
       "      <td>3.12</td>\n",
       "      <td>241400.0</td>\n",
       "    </tr>\n",
       "    <tr>\n",
       "      <th>8</th>\n",
       "      <td>37.84</td>\n",
       "      <td>42.0</td>\n",
       "      <td>2555.0</td>\n",
       "      <td>665.0</td>\n",
       "      <td>1206.0</td>\n",
       "      <td>595.0</td>\n",
       "      <td>2.0804</td>\n",
       "      <td>226700.0</td>\n",
       "    </tr>\n",
       "  </tbody>\n",
       "</table>\n",
       "</div>"
      ],
      "text/plain": [
       "       0     1       2       3       4       5       6         7\n",
       "0  37.88  41.0   880.0   129.0   322.0   126.0  8.3252  452600.0\n",
       "1  37.86  21.0  7099.0  1106.0  2401.0  1138.0  8.3014  358500.0\n",
       "2  37.85  52.0  1467.0   190.0   496.0   177.0  7.2574  352100.0\n",
       "3  37.85  52.0  1274.0   235.0   558.0   219.0  5.6431  341300.0\n",
       "4  37.85  52.0  1627.0   280.0   565.0   259.0  3.8462  342200.0\n",
       "5  37.85  52.0   919.0   213.0   413.0   193.0  4.0368  269700.0\n",
       "6  37.84  52.0  2535.0   489.0  1094.0   514.0  3.6591  299200.0\n",
       "7  37.84  52.0  3104.0   687.0  1157.0   647.0    3.12  241400.0\n",
       "8  37.84  42.0  2555.0   665.0  1206.0   595.0  2.0804  226700.0"
      ]
     },
     "execution_count": 14,
     "metadata": {},
     "output_type": "execute_result"
    }
   ],
   "source": [
    "# We preprocess the data\n",
    "datosPandas=pd.DataFrame(data)\n",
    "datosPandas"
   ]
  },
  {
   "cell_type": "code",
   "execution_count": 15,
   "metadata": {},
   "outputs": [
    {
     "name": "stdout",
     "output_type": "stream",
     "text": [
      "Datos after pre-processing [[3.7880e+01 4.1000e+01 8.8000e+02 1.2900e+02 3.2200e+02 1.2600e+02\n",
      "  8.3252e+00 4.5260e+05]\n",
      " [3.7860e+01 2.1000e+01 7.0990e+03 1.1060e+03 2.4010e+03 1.1380e+03\n",
      "  8.3014e+00 3.5850e+05]\n",
      " [3.7850e+01 5.2000e+01 1.4670e+03 1.9000e+02 4.9600e+02 1.7700e+02\n",
      "  7.2574e+00 3.5210e+05]\n",
      " [3.7850e+01 5.2000e+01 1.2740e+03 2.3500e+02 5.5800e+02 2.1900e+02\n",
      "  5.6431e+00 3.4130e+05]\n",
      " [3.7850e+01 5.2000e+01 1.6270e+03 2.8000e+02 5.6500e+02 2.5900e+02\n",
      "  3.8462e+00 3.4220e+05]\n",
      " [3.7850e+01 5.2000e+01 9.1900e+02 2.1300e+02 4.1300e+02 1.9300e+02\n",
      "  4.0368e+00 2.6970e+05]\n",
      " [3.7840e+01 5.2000e+01 2.5350e+03 4.8900e+02 1.0940e+03 5.1400e+02\n",
      "  3.6591e+00 2.9920e+05]\n",
      " [3.7840e+01 5.2000e+01 3.1040e+03 6.8700e+02 1.1570e+03 6.4700e+02\n",
      "  3.1200e+00 2.4140e+05]\n",
      " [3.7840e+01 4.2000e+01 2.5550e+03 6.6500e+02 1.2060e+03 5.9500e+02\n",
      "  2.0804e+00 2.2670e+05]]\n",
      "vector x_train  [[3.7850e+01 5.2000e+01 1.4670e+03 1.9000e+02 4.9600e+02 1.7700e+02\n",
      "  7.2574e+00]\n",
      " [3.7880e+01 4.1000e+01 8.8000e+02 1.2900e+02 3.2200e+02 1.2600e+02\n",
      "  8.3252e+00]\n",
      " [3.7860e+01 2.1000e+01 7.0990e+03 1.1060e+03 2.4010e+03 1.1380e+03\n",
      "  8.3014e+00]\n",
      " [3.7850e+01 5.2000e+01 9.1900e+02 2.1300e+02 4.1300e+02 1.9300e+02\n",
      "  4.0368e+00]\n",
      " [3.7850e+01 5.2000e+01 1.6270e+03 2.8000e+02 5.6500e+02 2.5900e+02\n",
      "  3.8462e+00]\n",
      " [3.7840e+01 4.2000e+01 2.5550e+03 6.6500e+02 1.2060e+03 5.9500e+02\n",
      "  2.0804e+00]]\n",
      "vector y_train  [352100. 452600. 358500. 269700. 342200. 226700.]\n"
     ]
    }
   ],
   "source": [
    "#We refill the missing data with the averagge\n",
    "datosPandas.replace('?',np.NaN,inplace=True)\n",
    "imp=SimpleImputer(missing_values=np.NaN)\n",
    "datos=imp.fit_transform(datosPandas)\n",
    "print('Datos after pre-processing',datos)\n",
    "# Shuffle the data list above\n",
    "np.random.shuffle(datos)\n",
    "#Percentage of training (in this sample, 50%) and percentage of testing (25%)\n",
    "p_train = 0.7\n",
    "#Number of elements in the training and test datasets\n",
    "len_train=int((len(datos))*p_train)\n",
    "datos_train=datos[:len_train,:]\n",
    "datos_test=datos[(len_train):,:]\n",
    "#We separate the data \"x\" from the \"y\" (the data \"y\" is in the last column)\n",
    "num_atrib=int(len(datos[0]))-1\n",
    "x_train=datos_train[:,:num_atrib]\n",
    "y_train=datos_train[:,num_atrib]\n",
    "x_test=datos_test[:,:num_atrib]\n",
    "y_test=datos_test[:,num_atrib]\n",
    "print('vector x_train ',x_train)\n",
    "print('vector y_train ',y_train)"
   ]
  },
  {
   "cell_type": "code",
   "execution_count": 16,
   "metadata": {},
   "outputs": [
    {
     "name": "stdout",
     "output_type": "stream",
     "text": [
      "len_train 6\n",
      "datos_train [[3.7850e+01 5.2000e+01 1.4670e+03 1.9000e+02 4.9600e+02 1.7700e+02\n",
      "  7.2574e+00 3.5210e+05]\n",
      " [3.7880e+01 4.1000e+01 8.8000e+02 1.2900e+02 3.2200e+02 1.2600e+02\n",
      "  8.3252e+00 4.5260e+05]\n",
      " [3.7860e+01 2.1000e+01 7.0990e+03 1.1060e+03 2.4010e+03 1.1380e+03\n",
      "  8.3014e+00 3.5850e+05]\n",
      " [3.7850e+01 5.2000e+01 9.1900e+02 2.1300e+02 4.1300e+02 1.9300e+02\n",
      "  4.0368e+00 2.6970e+05]\n",
      " [3.7850e+01 5.2000e+01 1.6270e+03 2.8000e+02 5.6500e+02 2.5900e+02\n",
      "  3.8462e+00 3.4220e+05]\n",
      " [3.7840e+01 4.2000e+01 2.5550e+03 6.6500e+02 1.2060e+03 5.9500e+02\n",
      "  2.0804e+00 2.2670e+05]]\n",
      "datos_test [[3.7840e+01 5.2000e+01 3.1040e+03 6.8700e+02 1.1570e+03 6.4700e+02\n",
      "  3.1200e+00 2.4140e+05]\n",
      " [3.7840e+01 5.2000e+01 2.5350e+03 4.8900e+02 1.0940e+03 5.1400e+02\n",
      "  3.6591e+00 2.9920e+05]\n",
      " [3.7850e+01 5.2000e+01 1.2740e+03 2.3500e+02 5.5800e+02 2.1900e+02\n",
      "  5.6431e+00 3.4130e+05]]\n"
     ]
    }
   ],
   "source": [
    "print('len_train',len_train)\n",
    "print('datos_train',datos_train)\n",
    "print('datos_test',datos_test)"
   ]
  },
  {
   "cell_type": "code",
   "execution_count": 17,
   "metadata": {},
   "outputs": [
    {
     "name": "stdout",
     "output_type": "stream",
     "text": [
      "vector x_train  [[3.7850e+01 5.2000e+01 1.4670e+03 1.9000e+02 4.9600e+02 1.7700e+02\n",
      "  7.2574e+00]\n",
      " [3.7880e+01 4.1000e+01 8.8000e+02 1.2900e+02 3.2200e+02 1.2600e+02\n",
      "  8.3252e+00]\n",
      " [3.7860e+01 2.1000e+01 7.0990e+03 1.1060e+03 2.4010e+03 1.1380e+03\n",
      "  8.3014e+00]\n",
      " [3.7850e+01 5.2000e+01 9.1900e+02 2.1300e+02 4.1300e+02 1.9300e+02\n",
      "  4.0368e+00]\n",
      " [3.7850e+01 5.2000e+01 1.6270e+03 2.8000e+02 5.6500e+02 2.5900e+02\n",
      "  3.8462e+00]\n",
      " [3.7840e+01 4.2000e+01 2.5550e+03 6.6500e+02 1.2060e+03 5.9500e+02\n",
      "  2.0804e+00]]\n"
     ]
    }
   ],
   "source": [
    "print('vector x_train ',x_train)"
   ]
  },
  {
   "cell_type": "code",
   "execution_count": 18,
   "metadata": {},
   "outputs": [
    {
     "name": "stdout",
     "output_type": "stream",
     "text": [
      "vector y_train  [352100. 452600. 358500. 269700. 342200. 226700.]\n"
     ]
    }
   ],
   "source": [
    "print('vector y_train ',y_train)"
   ]
  },
  {
   "cell_type": "code",
   "execution_count": 19,
   "metadata": {},
   "outputs": [
    {
     "name": "stdout",
     "output_type": "stream",
     "text": [
      "num_atrib : 7\n"
     ]
    }
   ],
   "source": [
    "# num_atrib=int(len(datos[0]))-1\n",
    "print('num_atrib :',num_atrib)"
   ]
  },
  {
   "cell_type": "code",
   "execution_count": 20,
   "metadata": {},
   "outputs": [],
   "source": [
    "# #PS0 parameters\n",
    "# num_iters=10\n",
    "# num_particles=46\n",
    "# c1=2.8\n",
    "# c2=1.3\n",
    "# factor=10\n",
    "# Fi=c1+c2\n",
    "# Xi=2/(abs(2-Fi-math.sqrt(abs(Fi**2-4*Fi))))\n",
    "# data=readData('Bias_correction_ucl.csv')\n",
    "# #print('Data prior removing',data)\n",
    "# #We remove the first row of names and the last column\n",
    "# data=data[1:,2:24]\n",
    "# #print('Data after removing',data)\n",
    "# # We preprocess the data\n",
    "# datosPandas=pd.DataFrame(data)\n",
    "# #We refill the missing data with the averagge\n",
    "# datosPandas.replace('?',np.NaN,inplace=True)\n",
    "# imp=SimpleImputer(missing_values=np.NaN)\n",
    "# datos=imp.fit_transform(datosPandas)\n",
    "# #print('Datos after pre-processing',datos)\n",
    "# # Shuffle the data list above\n",
    "# np.random.shuffle(datos)\n",
    "# #Percentage of training (in this sample, 50%) and percentage of testing (25%)\n",
    "# p_train = 0.7\n",
    "# #Number of elements in the training and test datasets\n",
    "# len_train=int((len(datos))*p_train)\n",
    "# datos_train=datos[:len_train,:]\n",
    "# datos_test=datos[(len_train):,:]\n",
    "# #We separate the data \"x\" from the \"y\" (the data \"y\" is in the last column)\n",
    "# num_atrib=int(len(datos[0]))-1\n",
    "# x_train=datos_train[:,:num_atrib]\n",
    "# y_train=datos_train[:,num_atrib]\n",
    "# x_test=datos_test[:,:num_atrib]\n",
    "# y_test=datos_test[:,num_atrib]\n",
    "# print('vector x_train ',x_train)\n",
    "# print('vector y_train ',y_train)"
   ]
  },
  {
   "cell_type": "code",
   "execution_count": 21,
   "metadata": {},
   "outputs": [
    {
     "name": "stdout",
     "output_type": "stream",
     "text": [
      "vector x_train scaled \n",
      " [[0.25       1.         0.09438817 0.06243603 0.08369408 0.05039526\n",
      "  0.82900974]\n",
      " [1.         0.64516129 0.         0.         0.         0.\n",
      "  1.        ]\n",
      " [0.5        0.         1.         1.         1.         1.\n",
      "  0.99618883]\n",
      " [0.25       1.         0.0062711  0.08597748 0.04377104 0.06620553\n",
      "  0.31328465]\n",
      " [0.25       1.         0.12011577 0.15455476 0.11688312 0.13142292\n",
      "  0.28276326]\n",
      " [0.         0.67741935 0.26933591 0.54861822 0.42520443 0.46343874\n",
      "  0.        ]]\n",
      "vector y_train scaled \n",
      " [[0.55511288]\n",
      " [1.        ]\n",
      " [0.583444  ]\n",
      " [0.19034971]\n",
      " [0.51128818]\n",
      " [0.        ]]\n"
     ]
    }
   ],
   "source": [
    "#Data re-scaling\n",
    "y_train=np.reshape(y_train, (-1,1))\n",
    "y_test=np.reshape(y_test, (-1,1))\n",
    "scaler_x = MinMaxScaler()\n",
    "scaler_y = MinMaxScaler()\n",
    "#\n",
    "scaler_x.fit(x_train)\n",
    "x_train=scaler_x.transform(x_train)\n",
    "x_test=scaler_x.transform(x_test)\n",
    "#\n",
    "scaler_y.fit(y_train)\n",
    "y_train=scaler_y.transform(y_train)\n",
    "y_test=scaler_y.transform(y_test)\n",
    "print('vector x_train scaled \\n',x_train)\n",
    "print('vector y_train scaled \\n',y_train)"
   ]
  },
  {
   "cell_type": "code",
   "execution_count": 22,
   "metadata": {},
   "outputs": [
    {
     "name": "stdout",
     "output_type": "stream",
     "text": [
      "7\n",
      "1\n"
     ]
    }
   ],
   "source": [
    "#Neural network parameters (as function of the input)\n",
    "n_inputs=x_train[0].size\n",
    "n_hidden=math.floor(len(x_train)/(factor*(n_inputs+1)))+1\n",
    "print(n_inputs)\n",
    "print(n_hidden)"
   ]
  },
  {
   "cell_type": "code",
   "execution_count": 23,
   "metadata": {},
   "outputs": [
    {
     "name": "stdout",
     "output_type": "stream",
     "text": [
      "8\n",
      "1.0000000000000002\n",
      "-1.0000000000000002\n"
     ]
    }
   ],
   "source": [
    "#We calculate the number of weights necessary to carry out the computation\n",
    "num_weights=(n_inputs*n_hidden)+n_hidden\n",
    "bound0=float(max(y_train))#upper limit\n",
    "bound1=-bound0 #lower limit\n",
    "print(num_weights)\n",
    "print(bound0)\n",
    "print(bound1)"
   ]
  },
  {
   "cell_type": "code",
   "execution_count": 24,
   "metadata": {},
   "outputs": [
    {
     "name": "stdout",
     "output_type": "stream",
     "text": [
      "total number of weights  4000\n"
     ]
    }
   ],
   "source": [
    "vMax=bound0*0.6\n",
    "weights=[]\n",
    "for i in range(0,num_particles):\n",
    "        for j in range(0, num_weights):\n",
    "            weights.append(random.uniform(-1, 1))\n",
    "print('total number of weights ', len(weights))\n"
   ]
  },
  {
   "cell_type": "code",
   "execution_count": 25,
   "metadata": {},
   "outputs": [],
   "source": [
    "#print('Initial weights values', weights )"
   ]
  },
  {
   "cell_type": "code",
   "execution_count": 26,
   "metadata": {},
   "outputs": [],
   "source": [
    "#Neural network parameters (as function of the input)\n",
    "n_inputs=x_train[0].size\n",
    "n_hidden=math.floor(len(x_train)/(factor*(n_inputs+1)))+1\n",
    "#We calculate the number of weights necessary to carry out the computation\n",
    "num_weights=(n_inputs*n_hidden)+n_hidden\n",
    "bound0=float(max(y_train))#upper limit\n",
    "bound1=-bound0 #lower limit\n",
    "vMax=bound0*0.6\n",
    "weights=[]\n",
    "for i in range(0,num_particles):\n",
    "        for j in range(0, num_weights):\n",
    "            weights.append(random.uniform(-1, 1))\n",
    "#print('total number of weights ', len(weights))\n",
    "#print('Initial weights values', weights )"
   ]
  },
  {
   "cell_type": "code",
   "execution_count": 27,
   "metadata": {},
   "outputs": [],
   "source": [
    "class Neural_Network:\n",
    "    # the parameters are the data, the number of neurons of the input layer, \n",
    "    # the number of neurons of the hidden layer and \n",
    "    # the number of neurons of the output layer\n",
    "    def __init__(self, x, y, n_inputs, n_hidden, weights, num_weights):\n",
    "        self.input=x\n",
    "        self.y=y\n",
    "        \n",
    "        self.weights=weights\n",
    "        self.num_weights=num_weights\n",
    "        \n",
    "    def train_PSO(self):\n",
    "        best_position, fitness=PSO_Neural_Network(self.input, self.y,self.weights, self.num_weights,[bound1,bound0], -1, num_particles, 100, 0.9, 0.1, vMax)\n",
    "        self.weights=best_position\n",
    "        return fitness\n",
    "    \n",
    "    def predict(self, x_test):\n",
    "        return forward_prop(x_test, self.weights)    "
   ]
  },
  {
   "cell_type": "code",
   "execution_count": 28,
   "metadata": {},
   "outputs": [],
   "source": [
    "#PSO parallel\n",
    "@cuda.jit\n",
    "#def PSO_GPU(x, y):\n",
    "def PSO_GPU(x, y, particle_positions, particle_velocity, personal_best_particle_position,fitness_personal_best_particle_position, local_best_particle_position, fitness_local_best_particle_position,pool, c1, c2, Vmax, bound0, bound1):\n",
    "  \n",
    "    particle= cuda.blockIdx.x #We found the particle that corresponds to the block where the thread is\n",
    "    nx=cuda.threadIdx.x #Finds the neurons of the hidden layer that this thread is going to calculate \n",
    "    #in this thread. Thread '0' does the rest of the particle calculations\n",
    "   \n",
    "    #We initialize the vectors in a shared-memory array (common to the block == to the particle)\n",
    "    z2=cuda.shared.array(shape=n_hidden, dtype=float32)\n",
    "\n",
    "    for iters in range(0, num_iters):\n",
    "        #We take particle's position corresponding to the thread\n",
    "        position=particle_positions[num_weights*particle: num_weights*(particle+1)]\n",
    "\n",
    "        #We do forward propagation\n",
    "        fitness_position=0\n",
    "        weights2=position[n_inputs*n_hidden:]\n",
    "        for i in range(0, len(x)):\n",
    "            j=nx\n",
    "            while(j<n_hidden):\n",
    "                #Pass from the init layer to the hidden layer\n",
    "                hidden_result=0\n",
    "                weights1=position[n_inputs*j:n_inputs*(j+1)]\n",
    "                for k in range(0,n_inputs-1):\n",
    "                    hidden_result+=(x[i][k]*weights1[k])\n",
    "                hidden_result+=weights1[n_inputs-1] #We add the bias\n",
    "                #Function ReLu (activation of)\n",
    "                hidden_result=max(0, hidden_result)\n",
    "                #We save the value in the vector z2, to add it when the total value \n",
    "                #is calculated in the output layer\n",
    "                z2[j]=hidden_result*weights2[j]\n",
    "                j=j+threadsperblock\n",
    "   \n",
    "            # Thread synchronization\n",
    "            cuda.syncthreads()\n",
    "           \n",
    "            #Thread '0' gathers the results of other threads\n",
    "            if(nx==0):\n",
    "                result=0\n",
    "                for h in range (0, n_hidden):\n",
    "                    result+=z2[h]\n",
    "                fitness_position+=float((y[i][0]-result)**2)\n",
    "            # Thread synchronization\n",
    "            cuda.syncthreads()\n",
    "            \n",
    "        if(nx==0):\n",
    "            #We update the best personal position\n",
    "            fitness_position=fitness_position/len(x)\n",
    "            if fitness_position < fitness_personal_best_particle_position[particle]:\n",
    "                for i in range(0, num_weights):\n",
    "                    personal_best_particle_position[(num_weights*particle)+i] = particle_positions[num_weights*particle+i]  # we update the best personal position\n",
    "                # we update the best personal value\n",
    "                fitness_personal_best_particle_position[particle] = fitness_position \n",
    "       \n",
    "        # We synchronize the threads\n",
    "        cuda.syncthreads()\n",
    "       \n",
    "        if(nx==0):\n",
    "            #Best local position updating\n",
    "            if fitness_personal_best_particle_position[particle]< fitness_local_best_particle_position[particle]:\n",
    "                for i in range(0, num_weights):\n",
    "                    local_best_particle_position[num_weights*particle+i] = personal_best_particle_position[(num_weights*particle)+i]\n",
    "                fitness_local_best_particle_position[particle] = fitness_personal_best_particle_position[particle]\n",
    "           \n",
    "            if fitness_personal_best_particle_position[int(math.fmod((num_particles+particle-1), num_particles))] < fitness_local_best_particle_position[particle]:\n",
    "                for i in range(0, num_weights):\n",
    "                    local_best_particle_position[num_weights*(particle)+i] = particle_positions[num_weights*(int(math.fmod((num_particles+particle-1), num_particles)))+i]\n",
    "                fitness_local_best_particle_position[particle] = fitness_personal_best_particle_position[int(math.fmod((num_particles+particle-1), num_particles))]\n",
    "           \n",
    "               \n",
    "            if fitness_personal_best_particle_position[int(math.fmod((num_particles+particle+1), num_particles))] < fitness_local_best_particle_position[particle]:\n",
    "                for i in range(0, num_weights):\n",
    "                    local_best_particle_position[num_weights*(particle)+i] = particle_positions[num_weights*(int(math.fmod((num_particles+particle+1), num_particles)))+i]\n",
    "                fitness_local_best_particle_position[particle] = fitness_personal_best_particle_position[int(math.fmod((num_particles+particle+1), num_particles))]\n",
    "           \n",
    "        # Thread synchronization\n",
    "        cuda.syncthreads()\n",
    "        \n",
    "        #We choose numbers from the random numbers repository\n",
    "        r1=pool[2*num_weights*num_particles+particle+iters]\n",
    "        r2=pool[2*num_weights*num_particles-particle-iters]\n",
    "       \n",
    "        i=nx\n",
    "        #We update each particle's velocity\n",
    "        while i<num_weights:\n",
    "            #We calculate the new velocity\n",
    "            particle_velocity[num_weights*particle+i] = Xi*( particle_velocity[num_weights*particle+i] + c1 * r1 * (personal_best_particle_position[num_weights*particle+i] - particle_positions[num_weights*particle+i]) + c2 * r2 * (local_best_particle_position[num_weights*particle+i] - particle_positions[num_weights*particle+i]))\n",
    "            #We limit speed to maximum speed\n",
    "            if particle_velocity[num_weights*particle+i]>Vmax :\n",
    "                particle_velocity[num_weights*particle+i]=Vmax\n",
    "            if particle_velocity[num_weights*particle+i]<(Vmax*(-1)):\n",
    "                particle_velocity[num_weights*particle+i]=(Vmax*(-1))\n",
    "            i+=threadsperblock\n",
    "       \n",
    "        # Wait until all threads finish computing\n",
    "        cuda.syncthreads()      \n",
    "        i=nx\n",
    "        #We update each particle's position\n",
    "        while i<num_weights:\n",
    "            particle_positions[num_weights*particle+i] = particle_positions[num_weights*particle+i] + particle_velocity[num_weights*particle+i]\n",
    "            #if it reaches and edge, it stays in there, it does not trespasses it\n",
    "            if particle_positions[num_weights*particle+i] > bound0:\n",
    "                particle_positions[num_weights*particle+i] = bound0\n",
    "            if particle_positions[num_weights*particle+i] < bound1:\n",
    "                particle_positions[num_weights*particle+i] = bound1\n",
    "            i+=threadsperblock\n",
    "           \n",
    "        # Wait until all threads finish computing\n",
    "        cuda.syncthreads()  "
   ]
  },
  {
   "cell_type": "code",
   "execution_count": 29,
   "metadata": {},
   "outputs": [],
   "source": [
    "def coresPerSM():\n",
    "    cc_cores_per_SM_dict = {\n",
    "    (2,0) : 32,\n",
    "    (2,1) : 48,\n",
    "    (3,0) : 192,\n",
    "    (3,5) : 192,\n",
    "    (3,7) : 192,\n",
    "    (5,0) : 128,\n",
    "    (5,2) : 128,\n",
    "    (6,0) : 64,\n",
    "    (6,1) : 128,\n",
    "    (7,0) : 64,\n",
    "    (7,5) : 64,\n",
    "    (8,0) : 64,\n",
    "    (8,6) : 128\n",
    "    }\n",
    "    # the above dictionary should result in a value of \"None\" if a cc match \n",
    "    # is not found.  The dictionary needs to be extended as new devices become\n",
    "    # available, and currently does not account for all Jetson devices\n",
    "    device = cuda.get_current_device()\n",
    "    #my_cc = getattr(device, 'COMPUTE_CAPABILITY')\n",
    "    my_cc=(6,1)\n",
    "    cores_per_sm = cc_cores_per_SM_dict.get(my_cc)\n",
    "    return cores_per_sm\n",
    "#device = cuda.get_current_device()\n",
    "threadsperblock =  coresPerSM()\n",
    "blockspergrid=num_particles\n",
    "#print('device, num weights, threads per block, blocks, c1, c2, vMax, bound0, bound1 ->',getattr(device, 'MULTIPROCESSOR_COUNT'),num_weights,threadsperblock,blockspergrid,c1, c2, vMax, bound0, bound1)"
   ]
  },
  {
   "cell_type": "code",
   "execution_count": 30,
   "metadata": {},
   "outputs": [
    {
     "name": "stdout",
     "output_type": "stream",
     "text": [
      "Data loaded in GPU correctly!\n"
     ]
    }
   ],
   "source": [
    "#We generate one pool of random numbers and initial data\n",
    "pool=[]\n",
    "fitness_personal_best_particle_position=[]\n",
    "fitness_local_best_particle_position=[]\n",
    "for i in range(0,num_particles):\n",
    "        for j in range(0, num_weights*3):\n",
    "            pool.append(random.uniform(bound1, bound0))\n",
    "        fitness_local_best_particle_position.append(float(\"inf\"))\n",
    "        fitness_personal_best_particle_position.append(float(\"inf\"))\n",
    "#We load data to the gpu\n",
    "x_global_mem=cuda.to_device(np.ascontiguousarray(x_train))\n",
    "y_global_mem=cuda.to_device(np.ascontiguousarray(y_train))\n",
    "fitness_personal_best_particle_position_global_mem=cuda.to_device(np.asarray(fitness_personal_best_particle_position))\n",
    "personal_best_particle_position=cuda.to_device(np.zeros(num_weights*num_particles))\n",
    "local_best_particle_position=cuda.to_device(np.zeros(num_weights*num_particles))\n",
    "fitness_local_best_particle_position_global_mem=cuda.to_device(np.ascontiguousarray(fitness_local_best_particle_position))\n",
    "pool_global_mem=cuda.to_device(np.ascontiguousarray(pool))\n",
    "\n",
    "#We initiate positions and velocities of particles by taking data from the pool of random numbers\n",
    "particles_positions=pool_global_mem[0:num_weights*num_particles]\n",
    "particles_velocity=pool_global_mem[num_weights*num_particles:2*num_weights*num_particles]\n",
    "print(\"Data loaded in GPU correctly!\")"
   ]
  },
  {
   "cell_type": "code",
   "execution_count": 31,
   "metadata": {},
   "outputs": [
    {
     "ename": "NvvmError",
     "evalue": "Failed to compile\n\n<unnamed> (50, 32): parse expected comma after getelementptr's type\nNVVM_ERROR_COMPILATION",
     "output_type": "error",
     "traceback": [
      "\u001b[1;31m---------------------------------------------------------------------------\u001b[0m",
      "\u001b[1;31mNvvmError\u001b[0m                                 Traceback (most recent call last)",
      "\u001b[1;32m<ipython-input-31-7719ce02c6b7>\u001b[0m in \u001b[0;36m<module>\u001b[1;34m\u001b[0m\n\u001b[0;32m      3\u001b[0m \u001b[0mcuda\u001b[0m\u001b[1;33m.\u001b[0m\u001b[0mprofile_start\u001b[0m\u001b[1;33m(\u001b[0m\u001b[1;33m)\u001b[0m\u001b[1;33m\u001b[0m\u001b[1;33m\u001b[0m\u001b[0m\n\u001b[0;32m      4\u001b[0m \u001b[1;33m\u001b[0m\u001b[0m\n\u001b[1;32m----> 5\u001b[1;33m \u001b[0mPSO_GPU\u001b[0m\u001b[1;33m[\u001b[0m\u001b[0mblockspergrid\u001b[0m\u001b[1;33m,\u001b[0m\u001b[0mthreadsperblock\u001b[0m\u001b[1;33m]\u001b[0m\u001b[1;33m(\u001b[0m\u001b[0mx_global_mem\u001b[0m\u001b[1;33m,\u001b[0m \u001b[0my_global_mem\u001b[0m\u001b[1;33m,\u001b[0m\u001b[0mparticles_positions\u001b[0m\u001b[1;33m,\u001b[0m \u001b[0mparticles_velocity\u001b[0m\u001b[1;33m,\u001b[0m \u001b[0mpersonal_best_particle_position\u001b[0m\u001b[1;33m,\u001b[0m\u001b[0mfitness_personal_best_particle_position_global_mem\u001b[0m\u001b[1;33m,\u001b[0m \u001b[0mlocal_best_particle_position\u001b[0m\u001b[1;33m,\u001b[0m\u001b[0mfitness_local_best_particle_position_global_mem\u001b[0m\u001b[1;33m,\u001b[0m \u001b[0mpool_global_mem\u001b[0m\u001b[1;33m,\u001b[0m\u001b[0mc1\u001b[0m\u001b[1;33m,\u001b[0m \u001b[0mc2\u001b[0m\u001b[1;33m,\u001b[0m \u001b[0mvMax\u001b[0m\u001b[1;33m,\u001b[0m \u001b[0mbound0\u001b[0m\u001b[1;33m,\u001b[0m \u001b[0mbound1\u001b[0m\u001b[1;33m)\u001b[0m\u001b[1;33m\u001b[0m\u001b[1;33m\u001b[0m\u001b[0m\n\u001b[0m\u001b[0;32m      6\u001b[0m \u001b[1;33m\u001b[0m\u001b[0m\n\u001b[0;32m      7\u001b[0m \u001b[0mlocal_best_particle_position_host\u001b[0m\u001b[1;33m=\u001b[0m\u001b[0mlocal_best_particle_position\u001b[0m\u001b[1;33m.\u001b[0m\u001b[0mcopy_to_host\u001b[0m\u001b[1;33m(\u001b[0m\u001b[1;33m)\u001b[0m\u001b[1;33m\u001b[0m\u001b[1;33m\u001b[0m\u001b[0m\n",
      "\u001b[1;32m~\\anaconda3\\lib\\site-packages\\numba\\cuda\\compiler.py\u001b[0m in \u001b[0;36m__call__\u001b[1;34m(self, *args)\u001b[0m\n\u001b[0;32m    802\u001b[0m         \u001b[0mSpecialize\u001b[0m \u001b[1;32mand\u001b[0m \u001b[0minvoke\u001b[0m \u001b[0mthis\u001b[0m \u001b[0mkernel\u001b[0m \u001b[1;32mwith\u001b[0m \u001b[1;33m*\u001b[0m\u001b[0margs\u001b[0m\u001b[1;33m*\u001b[0m\u001b[1;33m.\u001b[0m\u001b[1;33m\u001b[0m\u001b[1;33m\u001b[0m\u001b[0m\n\u001b[0;32m    803\u001b[0m         '''\n\u001b[1;32m--> 804\u001b[1;33m         \u001b[0mkernel\u001b[0m \u001b[1;33m=\u001b[0m \u001b[0mself\u001b[0m\u001b[1;33m.\u001b[0m\u001b[0mspecialize\u001b[0m\u001b[1;33m(\u001b[0m\u001b[1;33m*\u001b[0m\u001b[0margs\u001b[0m\u001b[1;33m)\u001b[0m\u001b[1;33m\u001b[0m\u001b[1;33m\u001b[0m\u001b[0m\n\u001b[0m\u001b[0;32m    805\u001b[0m         \u001b[0mcfg\u001b[0m \u001b[1;33m=\u001b[0m \u001b[0mkernel\u001b[0m\u001b[1;33m[\u001b[0m\u001b[0mself\u001b[0m\u001b[1;33m.\u001b[0m\u001b[0mgriddim\u001b[0m\u001b[1;33m,\u001b[0m \u001b[0mself\u001b[0m\u001b[1;33m.\u001b[0m\u001b[0mblockdim\u001b[0m\u001b[1;33m,\u001b[0m \u001b[0mself\u001b[0m\u001b[1;33m.\u001b[0m\u001b[0mstream\u001b[0m\u001b[1;33m,\u001b[0m \u001b[0mself\u001b[0m\u001b[1;33m.\u001b[0m\u001b[0msharedmem\u001b[0m\u001b[1;33m]\u001b[0m\u001b[1;33m\u001b[0m\u001b[1;33m\u001b[0m\u001b[0m\n\u001b[0;32m    806\u001b[0m         \u001b[0mcfg\u001b[0m\u001b[1;33m(\u001b[0m\u001b[1;33m*\u001b[0m\u001b[0margs\u001b[0m\u001b[1;33m)\u001b[0m\u001b[1;33m\u001b[0m\u001b[1;33m\u001b[0m\u001b[0m\n",
      "\u001b[1;32m~\\anaconda3\\lib\\site-packages\\numba\\cuda\\compiler.py\u001b[0m in \u001b[0;36mspecialize\u001b[1;34m(self, *args)\u001b[0m\n\u001b[0;32m    813\u001b[0m         argtypes = tuple(\n\u001b[0;32m    814\u001b[0m             [self.typingctx.resolve_argument_type(a) for a in args])\n\u001b[1;32m--> 815\u001b[1;33m         \u001b[0mkernel\u001b[0m \u001b[1;33m=\u001b[0m \u001b[0mself\u001b[0m\u001b[1;33m.\u001b[0m\u001b[0mcompile\u001b[0m\u001b[1;33m(\u001b[0m\u001b[0margtypes\u001b[0m\u001b[1;33m)\u001b[0m\u001b[1;33m\u001b[0m\u001b[1;33m\u001b[0m\u001b[0m\n\u001b[0m\u001b[0;32m    816\u001b[0m         \u001b[1;32mreturn\u001b[0m \u001b[0mkernel\u001b[0m\u001b[1;33m\u001b[0m\u001b[1;33m\u001b[0m\u001b[0m\n\u001b[0;32m    817\u001b[0m \u001b[1;33m\u001b[0m\u001b[0m\n",
      "\u001b[1;32m~\\anaconda3\\lib\\site-packages\\numba\\cuda\\compiler.py\u001b[0m in \u001b[0;36mcompile\u001b[1;34m(self, sig)\u001b[0m\n\u001b[0;32m    832\u001b[0m             \u001b[0mself\u001b[0m\u001b[1;33m.\u001b[0m\u001b[0mdefinitions\u001b[0m\u001b[1;33m[\u001b[0m\u001b[1;33m(\u001b[0m\u001b[0mcc\u001b[0m\u001b[1;33m,\u001b[0m \u001b[0margtypes\u001b[0m\u001b[1;33m)\u001b[0m\u001b[1;33m]\u001b[0m \u001b[1;33m=\u001b[0m \u001b[0mkernel\u001b[0m\u001b[1;33m\u001b[0m\u001b[1;33m\u001b[0m\u001b[0m\n\u001b[0;32m    833\u001b[0m             \u001b[1;32mif\u001b[0m \u001b[0mself\u001b[0m\u001b[1;33m.\u001b[0m\u001b[0mbind\u001b[0m\u001b[1;33m:\u001b[0m\u001b[1;33m\u001b[0m\u001b[1;33m\u001b[0m\u001b[0m\n\u001b[1;32m--> 834\u001b[1;33m                 \u001b[0mkernel\u001b[0m\u001b[1;33m.\u001b[0m\u001b[0mbind\u001b[0m\u001b[1;33m(\u001b[0m\u001b[1;33m)\u001b[0m\u001b[1;33m\u001b[0m\u001b[1;33m\u001b[0m\u001b[0m\n\u001b[0m\u001b[0;32m    835\u001b[0m         \u001b[1;32mreturn\u001b[0m \u001b[0mkernel\u001b[0m\u001b[1;33m\u001b[0m\u001b[1;33m\u001b[0m\u001b[0m\n\u001b[0;32m    836\u001b[0m \u001b[1;33m\u001b[0m\u001b[0m\n",
      "\u001b[1;32m~\\anaconda3\\lib\\site-packages\\numba\\cuda\\compiler.py\u001b[0m in \u001b[0;36mbind\u001b[1;34m(self)\u001b[0m\n\u001b[0;32m    546\u001b[0m         \u001b[0mForce\u001b[0m \u001b[0mbinding\u001b[0m \u001b[0mto\u001b[0m \u001b[0mcurrent\u001b[0m \u001b[0mCUDA\u001b[0m \u001b[0mcontext\u001b[0m\u001b[1;33m\u001b[0m\u001b[1;33m\u001b[0m\u001b[0m\n\u001b[0;32m    547\u001b[0m         \"\"\"\n\u001b[1;32m--> 548\u001b[1;33m         \u001b[0mself\u001b[0m\u001b[1;33m.\u001b[0m\u001b[0m_func\u001b[0m\u001b[1;33m.\u001b[0m\u001b[0mget\u001b[0m\u001b[1;33m(\u001b[0m\u001b[1;33m)\u001b[0m\u001b[1;33m\u001b[0m\u001b[1;33m\u001b[0m\u001b[0m\n\u001b[0m\u001b[0;32m    549\u001b[0m \u001b[1;33m\u001b[0m\u001b[0m\n\u001b[0;32m    550\u001b[0m     \u001b[1;33m@\u001b[0m\u001b[0mproperty\u001b[0m\u001b[1;33m\u001b[0m\u001b[1;33m\u001b[0m\u001b[0m\n",
      "\u001b[1;32m~\\anaconda3\\lib\\site-packages\\numba\\cuda\\compiler.py\u001b[0m in \u001b[0;36mget\u001b[1;34m(self)\u001b[0m\n\u001b[0;32m    424\u001b[0m         \u001b[0mcufunc\u001b[0m \u001b[1;33m=\u001b[0m \u001b[0mself\u001b[0m\u001b[1;33m.\u001b[0m\u001b[0mcache\u001b[0m\u001b[1;33m.\u001b[0m\u001b[0mget\u001b[0m\u001b[1;33m(\u001b[0m\u001b[0mdevice\u001b[0m\u001b[1;33m.\u001b[0m\u001b[0mid\u001b[0m\u001b[1;33m)\u001b[0m\u001b[1;33m\u001b[0m\u001b[1;33m\u001b[0m\u001b[0m\n\u001b[0;32m    425\u001b[0m         \u001b[1;32mif\u001b[0m \u001b[0mcufunc\u001b[0m \u001b[1;32mis\u001b[0m \u001b[1;32mNone\u001b[0m\u001b[1;33m:\u001b[0m\u001b[1;33m\u001b[0m\u001b[1;33m\u001b[0m\u001b[0m\n\u001b[1;32m--> 426\u001b[1;33m             \u001b[0mptx\u001b[0m \u001b[1;33m=\u001b[0m \u001b[0mself\u001b[0m\u001b[1;33m.\u001b[0m\u001b[0mptx\u001b[0m\u001b[1;33m.\u001b[0m\u001b[0mget\u001b[0m\u001b[1;33m(\u001b[0m\u001b[1;33m)\u001b[0m\u001b[1;33m\u001b[0m\u001b[1;33m\u001b[0m\u001b[0m\n\u001b[0m\u001b[0;32m    427\u001b[0m \u001b[1;33m\u001b[0m\u001b[0m\n\u001b[0;32m    428\u001b[0m             \u001b[1;31m# Link\u001b[0m\u001b[1;33m\u001b[0m\u001b[1;33m\u001b[0m\u001b[1;33m\u001b[0m\u001b[0m\n",
      "\u001b[1;32m~\\anaconda3\\lib\\site-packages\\numba\\cuda\\compiler.py\u001b[0m in \u001b[0;36mget\u001b[1;34m(self)\u001b[0m\n\u001b[0;32m    395\u001b[0m             \u001b[0march\u001b[0m \u001b[1;33m=\u001b[0m \u001b[0mnvvm\u001b[0m\u001b[1;33m.\u001b[0m\u001b[0mget_arch_option\u001b[0m\u001b[1;33m(\u001b[0m\u001b[1;33m*\u001b[0m\u001b[0mcc\u001b[0m\u001b[1;33m)\u001b[0m\u001b[1;33m\u001b[0m\u001b[1;33m\u001b[0m\u001b[0m\n\u001b[0;32m    396\u001b[0m             ptx = nvvm.llvm_to_ptx(self.llvmir, opt=3, arch=arch,\n\u001b[1;32m--> 397\u001b[1;33m                                    **self._extra_options)\n\u001b[0m\u001b[0;32m    398\u001b[0m             \u001b[0mself\u001b[0m\u001b[1;33m.\u001b[0m\u001b[0mcache\u001b[0m\u001b[1;33m[\u001b[0m\u001b[0mcc\u001b[0m\u001b[1;33m]\u001b[0m \u001b[1;33m=\u001b[0m \u001b[0mptx\u001b[0m\u001b[1;33m\u001b[0m\u001b[1;33m\u001b[0m\u001b[0m\n\u001b[0;32m    399\u001b[0m             \u001b[1;32mif\u001b[0m \u001b[0mconfig\u001b[0m\u001b[1;33m.\u001b[0m\u001b[0mDUMP_ASSEMBLY\u001b[0m\u001b[1;33m:\u001b[0m\u001b[1;33m\u001b[0m\u001b[1;33m\u001b[0m\u001b[0m\n",
      "\u001b[1;32m~\\anaconda3\\lib\\site-packages\\numba\\cuda\\cudadrv\\nvvm.py\u001b[0m in \u001b[0;36mllvm_to_ptx\u001b[1;34m(llvmir, **opts)\u001b[0m\n\u001b[0;32m    494\u001b[0m     \u001b[0mcu\u001b[0m\u001b[1;33m.\u001b[0m\u001b[0madd_module\u001b[0m\u001b[1;33m(\u001b[0m\u001b[0mlibdevice\u001b[0m\u001b[1;33m.\u001b[0m\u001b[0mget\u001b[0m\u001b[1;33m(\u001b[0m\u001b[1;33m)\u001b[0m\u001b[1;33m)\u001b[0m\u001b[1;33m\u001b[0m\u001b[1;33m\u001b[0m\u001b[0m\n\u001b[0;32m    495\u001b[0m \u001b[1;33m\u001b[0m\u001b[0m\n\u001b[1;32m--> 496\u001b[1;33m     \u001b[0mptx\u001b[0m \u001b[1;33m=\u001b[0m \u001b[0mcu\u001b[0m\u001b[1;33m.\u001b[0m\u001b[0mcompile\u001b[0m\u001b[1;33m(\u001b[0m\u001b[1;33m**\u001b[0m\u001b[0mopts\u001b[0m\u001b[1;33m)\u001b[0m\u001b[1;33m\u001b[0m\u001b[1;33m\u001b[0m\u001b[0m\n\u001b[0m\u001b[0;32m    497\u001b[0m     \u001b[1;31m# XXX remove debug_pubnames seems to be necessary sometimes\u001b[0m\u001b[1;33m\u001b[0m\u001b[1;33m\u001b[0m\u001b[1;33m\u001b[0m\u001b[0m\n\u001b[0;32m    498\u001b[0m     \u001b[1;32mreturn\u001b[0m \u001b[0mpatch_ptx_debug_pubnames\u001b[0m\u001b[1;33m(\u001b[0m\u001b[0mptx\u001b[0m\u001b[1;33m)\u001b[0m\u001b[1;33m\u001b[0m\u001b[1;33m\u001b[0m\u001b[0m\n",
      "\u001b[1;32m~\\anaconda3\\lib\\site-packages\\numba\\cuda\\cudadrv\\nvvm.py\u001b[0m in \u001b[0;36mcompile\u001b[1;34m(self, **options)\u001b[0m\n\u001b[0;32m    231\u001b[0m                                           for x in opts])\n\u001b[0;32m    232\u001b[0m         \u001b[0merr\u001b[0m \u001b[1;33m=\u001b[0m \u001b[0mself\u001b[0m\u001b[1;33m.\u001b[0m\u001b[0mdriver\u001b[0m\u001b[1;33m.\u001b[0m\u001b[0mnvvmCompileProgram\u001b[0m\u001b[1;33m(\u001b[0m\u001b[0mself\u001b[0m\u001b[1;33m.\u001b[0m\u001b[0m_handle\u001b[0m\u001b[1;33m,\u001b[0m \u001b[0mlen\u001b[0m\u001b[1;33m(\u001b[0m\u001b[0mopts\u001b[0m\u001b[1;33m)\u001b[0m\u001b[1;33m,\u001b[0m \u001b[0mc_opts\u001b[0m\u001b[1;33m)\u001b[0m\u001b[1;33m\u001b[0m\u001b[1;33m\u001b[0m\u001b[0m\n\u001b[1;32m--> 233\u001b[1;33m         \u001b[0mself\u001b[0m\u001b[1;33m.\u001b[0m\u001b[0m_try_error\u001b[0m\u001b[1;33m(\u001b[0m\u001b[0merr\u001b[0m\u001b[1;33m,\u001b[0m \u001b[1;34m'Failed to compile\\n'\u001b[0m\u001b[1;33m)\u001b[0m\u001b[1;33m\u001b[0m\u001b[1;33m\u001b[0m\u001b[0m\n\u001b[0m\u001b[0;32m    234\u001b[0m \u001b[1;33m\u001b[0m\u001b[0m\n\u001b[0;32m    235\u001b[0m         \u001b[1;31m# get result\u001b[0m\u001b[1;33m\u001b[0m\u001b[1;33m\u001b[0m\u001b[1;33m\u001b[0m\u001b[0m\n",
      "\u001b[1;32m~\\anaconda3\\lib\\site-packages\\numba\\cuda\\cudadrv\\nvvm.py\u001b[0m in \u001b[0;36m_try_error\u001b[1;34m(self, err, msg)\u001b[0m\n\u001b[0;32m    249\u001b[0m \u001b[1;33m\u001b[0m\u001b[0m\n\u001b[0;32m    250\u001b[0m     \u001b[1;32mdef\u001b[0m \u001b[0m_try_error\u001b[0m\u001b[1;33m(\u001b[0m\u001b[0mself\u001b[0m\u001b[1;33m,\u001b[0m \u001b[0merr\u001b[0m\u001b[1;33m,\u001b[0m \u001b[0mmsg\u001b[0m\u001b[1;33m)\u001b[0m\u001b[1;33m:\u001b[0m\u001b[1;33m\u001b[0m\u001b[1;33m\u001b[0m\u001b[0m\n\u001b[1;32m--> 251\u001b[1;33m         \u001b[0mself\u001b[0m\u001b[1;33m.\u001b[0m\u001b[0mdriver\u001b[0m\u001b[1;33m.\u001b[0m\u001b[0mcheck_error\u001b[0m\u001b[1;33m(\u001b[0m\u001b[0merr\u001b[0m\u001b[1;33m,\u001b[0m \u001b[1;34m\"%s\\n%s\"\u001b[0m \u001b[1;33m%\u001b[0m \u001b[1;33m(\u001b[0m\u001b[0mmsg\u001b[0m\u001b[1;33m,\u001b[0m \u001b[0mself\u001b[0m\u001b[1;33m.\u001b[0m\u001b[0mget_log\u001b[0m\u001b[1;33m(\u001b[0m\u001b[1;33m)\u001b[0m\u001b[1;33m)\u001b[0m\u001b[1;33m)\u001b[0m\u001b[1;33m\u001b[0m\u001b[1;33m\u001b[0m\u001b[0m\n\u001b[0m\u001b[0;32m    252\u001b[0m \u001b[1;33m\u001b[0m\u001b[0m\n\u001b[0;32m    253\u001b[0m     \u001b[1;32mdef\u001b[0m \u001b[0mget_log\u001b[0m\u001b[1;33m(\u001b[0m\u001b[0mself\u001b[0m\u001b[1;33m)\u001b[0m\u001b[1;33m:\u001b[0m\u001b[1;33m\u001b[0m\u001b[1;33m\u001b[0m\u001b[0m\n",
      "\u001b[1;32m~\\anaconda3\\lib\\site-packages\\numba\\cuda\\cudadrv\\nvvm.py\u001b[0m in \u001b[0;36mcheck_error\u001b[1;34m(self, error, msg, exit)\u001b[0m\n\u001b[0;32m    139\u001b[0m                 \u001b[0msys\u001b[0m\u001b[1;33m.\u001b[0m\u001b[0mexit\u001b[0m\u001b[1;33m(\u001b[0m\u001b[1;36m1\u001b[0m\u001b[1;33m)\u001b[0m\u001b[1;33m\u001b[0m\u001b[1;33m\u001b[0m\u001b[0m\n\u001b[0;32m    140\u001b[0m             \u001b[1;32melse\u001b[0m\u001b[1;33m:\u001b[0m\u001b[1;33m\u001b[0m\u001b[1;33m\u001b[0m\u001b[0m\n\u001b[1;32m--> 141\u001b[1;33m                 \u001b[1;32mraise\u001b[0m \u001b[0mexc\u001b[0m\u001b[1;33m\u001b[0m\u001b[1;33m\u001b[0m\u001b[0m\n\u001b[0m\u001b[0;32m    142\u001b[0m \u001b[1;33m\u001b[0m\u001b[0m\n\u001b[0;32m    143\u001b[0m \u001b[1;33m\u001b[0m\u001b[0m\n",
      "\u001b[1;31mNvvmError\u001b[0m: Failed to compile\n\n<unnamed> (50, 32): parse expected comma after getelementptr's type\nNVVM_ERROR_COMPILATION"
     ]
    }
   ],
   "source": [
    "#And now it's time to launch the computation in parallel!!!!\n",
    "start = time.time()\n",
    "cuda.profile_start()\n",
    "\n",
    "PSO_GPU[blockspergrid,threadsperblock](x_global_mem, y_global_mem,particles_positions, particles_velocity, personal_best_particle_position,fitness_personal_best_particle_position_global_mem, local_best_particle_position,fitness_local_best_particle_position_global_mem, pool_global_mem,c1, c2, vMax, bound0, bound1)\n",
    "\n",
    "local_best_particle_position_host=local_best_particle_position.copy_to_host()\n",
    "fitness_local_best_particle_position=fitness_local_best_particle_position_global_mem.copy_to_host()\n",
    "cuda.profile_stop()\n",
    "end = time.time()\n",
    "time = end - start\n",
    "print(\"Execution time(s): \", time)"
   ]
  },
  {
   "cell_type": "code",
   "execution_count": null,
   "metadata": {},
   "outputs": [],
   "source": [
    "import time\n",
    "global_best_particle_position=[]\n",
    "fitness_global_best_particle_position=float(\"inf\")\n",
    "for i in range(0, num_particles):\n",
    "    if(fitness_local_best_particle_position[i]<fitness_global_best_particle_position):\n",
    "        global_best_particle_position=local_best_particle_position_host[num_weights*i:num_weights*(i+1)]\n",
    "        fitness_global_best_particle_position=fitness_local_best_particle_position[i]\n",
    "\n",
    "#We calculate the transfer time between the host (CPU) and the device (GPU), and we remove it from the calculation\n",
    "start2 = time.time()\n",
    "local_best_particle_position_host=local_best_particle_position.copy_to_host()\n",
    "fitness_local_best_particle_position=fitness_local_best_particle_position_global_mem.copy_to_host()\n",
    "end2 = time.time()\n",
    "time_corr=end - start -(end2-start2)\n",
    "#Error calculation\n",
    "Eout=0\n",
    "Error_Cero=0\n",
    "prediction=np.zeros(len(x_test))\n",
    "for i in range(0, len(x_test)):\n",
    "        prediction[i]=forward_prop(x_test[i], global_best_particle_position)\n",
    "        # mean standard error (MSE), for regression problems\n",
    "        Eout+=float((y_test[i][0]-prediction[i]))**2\n",
    "Eout=Eout/len(x_test)\n",
    "#results\n",
    "print(\"Number of iterations of PSO =\", num_iters)\n",
    "print(\"Running time(s): \", time_corr)\n",
    "print('Ein:', fitness_global_best_particle_position)\n",
    "print('Eout:', Eout)"
   ]
  },
  {
   "cell_type": "code",
   "execution_count": null,
   "metadata": {},
   "outputs": [],
   "source": [
    "# red_neuronal=Neural_Network(x_train, y_train, n_inputs, n_hidden, weights, num_weights)\n",
    "# y_pred= red_neuronal.predict(x_test)\n",
    "# neuralNetwork = Neural_Network()\n",
    "# y_pred = neuralNetwork.predict(x_test)\n",
    "\n",
    "# Confusion matrix with random forest\n",
    "from sklearn.metrics import classification_report, confusion_matrix\n",
    "# from sklearn.ensemble import RandomForestClassifier\n",
    "# x,y = data.loc[:,data.columns != 'ocean_proximity'], data.loc[:,'ocean_proximity']\n",
    "# x_train,x_test,y_train,y_test = train_test_split(x,y,test_size = 0.3,random_state = 1)\n",
    "# rf = RandomForestClassifier(random_state = 4)\n",
    "# rf.fit(x_train,y_train)\n",
    "\n",
    "red_neuronal=Neural_Network(x_train, y_train, n_inputs, n_hidden, weights, num_weights) \n",
    "\n",
    "# for i in range(len(x_test)):\n",
    "y_pred=float(red_neuronal.predict(x_test))\n",
    "    \n",
    "# y_pred= red_neuronal.predict(x_test)\n",
    "# cm = confusion_matrix(y_test,y_pred)\n",
    "# print('Confusion matrix: \\n',cm)\n",
    "# print('Classification report: \\n',classification_report(y_test,y_pred))\n",
    "# print('cm :' ,cm)"
   ]
  },
  {
   "cell_type": "code",
   "execution_count": null,
   "metadata": {},
   "outputs": [],
   "source": [
    "print(y_pred)"
   ]
  },
  {
   "cell_type": "code",
   "execution_count": null,
   "metadata": {},
   "outputs": [],
   "source": [
    "import seaborn as sns"
   ]
  },
  {
   "cell_type": "code",
   "execution_count": null,
   "metadata": {},
   "outputs": [],
   "source": [
    "# Confusion matrix with random forest\n",
    "from sklearn.metrics import classification_report, confusion_matrix\n",
    "from sklearn.ensemble import RandomForestClassifier\n",
    "from sklearn.model_selection import train_test_split\n",
    "# x,y = data.loc[:,data.columns != 'ocean_proximity'], data.loc[:,'ocean_proximity']\n",
    "# x_train,x_test,y_train,y_test = train_test_split(x,y,test_size = 0.3,random_state = 1)\n",
    "# # rf = RandomForestClassifier(random_state = 4)\n",
    "# # rf.fit(x_train,y_train)\n",
    "# # y_pred = rf.predict(x_test)\n",
    "cm = confusion_matrix(y_test,y_pred)\n",
    "print('Confusion matrix: \\n',cm)\n",
    "print('Classification report: \\n',classification_report(y_test,y_pred))"
   ]
  },
  {
   "cell_type": "code",
   "execution_count": null,
   "metadata": {},
   "outputs": [],
   "source": []
  },
  {
   "cell_type": "code",
   "execution_count": null,
   "metadata": {},
   "outputs": [],
   "source": []
  },
  {
   "cell_type": "code",
   "execution_count": null,
   "metadata": {},
   "outputs": [],
   "source": []
  },
  {
   "cell_type": "code",
   "execution_count": null,
   "metadata": {},
   "outputs": [],
   "source": []
  }
 ],
 "metadata": {
  "kernelspec": {
   "display_name": "Python 3",
   "language": "python",
   "name": "python3"
  },
  "language_info": {
   "codemirror_mode": {
    "name": "ipython",
    "version": 3
   },
   "file_extension": ".py",
   "mimetype": "text/x-python",
   "name": "python",
   "nbconvert_exporter": "python",
   "pygments_lexer": "ipython3",
   "version": "3.7.6"
  }
 },
 "nbformat": 4,
 "nbformat_minor": 4
}
